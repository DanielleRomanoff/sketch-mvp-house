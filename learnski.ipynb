{
 "cells": [
  {
   "cell_type": "code",
   "execution_count": 2,
   "metadata": {},
   "outputs": [
    {
     "name": "stdout",
     "output_type": "stream",
     "text": [
      ".."
     ]
    },
    {
     "data": {
      "text/html": [
       "<div>\n",
       "<style scoped>\n",
       "    .dataframe tbody tr th:only-of-type {\n",
       "        vertical-align: middle;\n",
       "    }\n",
       "\n",
       "    .dataframe tbody tr th {\n",
       "        vertical-align: top;\n",
       "    }\n",
       "\n",
       "    .dataframe thead th {\n",
       "        text-align: right;\n",
       "    }\n",
       "</style>\n",
       "<table border=\"1\" class=\"dataframe\">\n",
       "  <thead>\n",
       "    <tr style=\"text-align: right;\">\n",
       "      <th></th>\n",
       "      <th>price_per_sq_ft</th>\n",
       "      <th>beds_total</th>\n",
       "      <th>baths.lavs</th>\n",
       "      <th>original_list_price</th>\n",
       "      <th>year_built</th>\n",
       "      <th>sqft-est_tot_fin</th>\n",
       "      <th>sqft-est_fin_abv_grd</th>\n",
       "      <th>acreage</th>\n",
       "    </tr>\n",
       "  </thead>\n",
       "  <tbody>\n",
       "    <tr>\n",
       "      <th>0</th>\n",
       "      <td>98.0</td>\n",
       "      <td>3</td>\n",
       "      <td>2.0</td>\n",
       "      <td>199900</td>\n",
       "      <td>1952</td>\n",
       "      <td>1.726</td>\n",
       "      <td>1.026</td>\n",
       "      <td>0.50</td>\n",
       "    </tr>\n",
       "    <tr>\n",
       "      <th>1</th>\n",
       "      <td>99.0</td>\n",
       "      <td>3</td>\n",
       "      <td>1.1</td>\n",
       "      <td>199900</td>\n",
       "      <td>1949</td>\n",
       "      <td>1.910</td>\n",
       "      <td>1.210</td>\n",
       "      <td>0.25</td>\n",
       "    </tr>\n",
       "    <tr>\n",
       "      <th>2</th>\n",
       "      <td>103.0</td>\n",
       "      <td>4</td>\n",
       "      <td>1.0</td>\n",
       "      <td>199900</td>\n",
       "      <td>1923</td>\n",
       "      <td>1.764</td>\n",
       "      <td>1.764</td>\n",
       "      <td>0.25</td>\n",
       "    </tr>\n",
       "    <tr>\n",
       "      <th>3</th>\n",
       "      <td>105.0</td>\n",
       "      <td>4</td>\n",
       "      <td>3.0</td>\n",
       "      <td>325000</td>\n",
       "      <td>1953</td>\n",
       "      <td>936.000</td>\n",
       "      <td>936.000</td>\n",
       "      <td>0.21</td>\n",
       "    </tr>\n",
       "    <tr>\n",
       "      <th>4</th>\n",
       "      <td>105.0</td>\n",
       "      <td>3</td>\n",
       "      <td>1.0</td>\n",
       "      <td>174999</td>\n",
       "      <td>1949</td>\n",
       "      <td>1.792</td>\n",
       "      <td>1.064</td>\n",
       "      <td>0.13</td>\n",
       "    </tr>\n",
       "  </tbody>\n",
       "</table>\n",
       "</div>"
      ],
      "text/plain": [
       "   price_per_sq_ft  beds_total  baths.lavs  original_list_price  year_built  \\\n",
       "0             98.0           3         2.0               199900        1952   \n",
       "1             99.0           3         1.1               199900        1949   \n",
       "2            103.0           4         1.0               199900        1923   \n",
       "3            105.0           4         3.0               325000        1953   \n",
       "4            105.0           3         1.0               174999        1949   \n",
       "\n",
       "   sqft-est_tot_fin  sqft-est_fin_abv_grd  acreage  \n",
       "0             1.726                 1.026     0.50  \n",
       "1             1.910                 1.210     0.25  \n",
       "2             1.764                 1.764     0.25  \n",
       "3           936.000               936.000     0.21  \n",
       "4             1.792                 1.064     0.13  "
      ]
     },
     "execution_count": 2,
     "metadata": {},
     "output_type": "execute_result"
    }
   ],
   "source": [
    "from clean import Data, PTHURL\n",
    "from utils import Spinner, train_test_val_split\n",
    "spin = Spinner()\n",
    "\n",
    "dat = Data(PTHURL)\n",
    "X = dat.X\n",
    "y = dat.y\n",
    "\n",
    "X.head()"
   ]
  },
  {
   "cell_type": "code",
   "execution_count": 3,
   "metadata": {},
   "outputs": [
    {
     "ename": "TypeError",
     "evalue": "train_test_val_split() takes 4 positional arguments but 5 were given",
     "output_type": "error",
     "traceback": [
      "\u001b[0;31m---------------------------------------------------------------------------\u001b[0m",
      "\u001b[0;31mTypeError\u001b[0m                                 Traceback (most recent call last)",
      "\u001b[0;32m<ipython-input-3-2e3ec1c9f27c>\u001b[0m in \u001b[0;36m<module>\u001b[0;34m\u001b[0m\n\u001b[0;32m----> 1\u001b[0;31m \u001b[0mtrain_test_val_split\u001b[0m\u001b[0;34m(\u001b[0m\u001b[0mX\u001b[0m\u001b[0;34m,\u001b[0m \u001b[0my\u001b[0m\u001b[0;34m,\u001b[0m \u001b[0;36m0.3\u001b[0m\u001b[0;34m,\u001b[0m \u001b[0;36m0.7\u001b[0m\u001b[0;34m,\u001b[0m \u001b[0;36m0\u001b[0m\u001b[0;34m)\u001b[0m\u001b[0;34m\u001b[0m\u001b[0m\n\u001b[0m",
      "\u001b[0;31mTypeError\u001b[0m: train_test_val_split() takes 4 positional arguments but 5 were given"
     ]
    }
   ],
   "source": [
    "#train_test_val_split(X, y, 0.3, 0.7, 0)"
   ]
  },
  {
   "cell_type": "code",
   "execution_count": 4,
   "metadata": {},
   "outputs": [
    {
     "name": "stdout",
     "output_type": "stream",
     "text": [
      "Help on function train_test_val_split in module utils:\n",
      "\n",
      "train_test_val_split(Dat:pandas.core.frame.DataFrame, x:float, y:float, z:float)\n",
      "    dat: data\n",
      "    x: train size\n",
      "    y: validation size\n",
      "    z: test size\n",
      "\n"
     ]
    }
   ],
   "source": [
    "help(train_test_val_split)"
   ]
  },
  {
   "cell_type": "code",
   "execution_count": null,
   "metadata": {},
   "outputs": [],
   "source": []
  }
 ],
 "metadata": {
  "kernelspec": {
   "display_name": "Python 3",
   "language": "python",
   "name": "python3"
  },
  "language_info": {
   "codemirror_mode": {
    "name": "ipython",
    "version": 3
   },
   "file_extension": ".py",
   "mimetype": "text/x-python",
   "name": "python",
   "nbconvert_exporter": "python",
   "pygments_lexer": "ipython3",
   "version": "3.6.6"
  }
 },
 "nbformat": 4,
 "nbformat_minor": 2
}
