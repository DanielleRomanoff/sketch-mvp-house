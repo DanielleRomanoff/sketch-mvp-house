{
 "cells": [
  {
   "cell_type": "code",
   "execution_count": 1,
   "metadata": {},
   "outputs": [
    {
     "name": "stdout",
     "output_type": "stream",
     "text": [
      "..."
     ]
    },
    {
     "data": {
      "text/html": [
       "<div>\n",
       "<style scoped>\n",
       "    .dataframe tbody tr th:only-of-type {\n",
       "        vertical-align: middle;\n",
       "    }\n",
       "\n",
       "    .dataframe tbody tr th {\n",
       "        vertical-align: top;\n",
       "    }\n",
       "\n",
       "    .dataframe thead th {\n",
       "        text-align: right;\n",
       "    }\n",
       "</style>\n",
       "<table border=\"1\" class=\"dataframe\">\n",
       "  <thead>\n",
       "    <tr style=\"text-align: right;\">\n",
       "      <th></th>\n",
       "      <th>price_per_sq_ft</th>\n",
       "      <th>beds_total</th>\n",
       "      <th>baths.lavs</th>\n",
       "      <th>original_list_price</th>\n",
       "      <th>year_built</th>\n",
       "      <th>sqft-est_tot_fin</th>\n",
       "      <th>sqft-est_fin_abv_grd</th>\n",
       "      <th>acreage</th>\n",
       "    </tr>\n",
       "  </thead>\n",
       "  <tbody>\n",
       "    <tr>\n",
       "      <th>0</th>\n",
       "      <td>98.0</td>\n",
       "      <td>3</td>\n",
       "      <td>2.0</td>\n",
       "      <td>199900</td>\n",
       "      <td>1952</td>\n",
       "      <td>1.726</td>\n",
       "      <td>1.026</td>\n",
       "      <td>0.50</td>\n",
       "    </tr>\n",
       "    <tr>\n",
       "      <th>1</th>\n",
       "      <td>99.0</td>\n",
       "      <td>3</td>\n",
       "      <td>1.1</td>\n",
       "      <td>199900</td>\n",
       "      <td>1949</td>\n",
       "      <td>1.910</td>\n",
       "      <td>1.210</td>\n",
       "      <td>0.25</td>\n",
       "    </tr>\n",
       "    <tr>\n",
       "      <th>2</th>\n",
       "      <td>103.0</td>\n",
       "      <td>4</td>\n",
       "      <td>1.0</td>\n",
       "      <td>199900</td>\n",
       "      <td>1923</td>\n",
       "      <td>1.764</td>\n",
       "      <td>1.764</td>\n",
       "      <td>0.25</td>\n",
       "    </tr>\n",
       "    <tr>\n",
       "      <th>3</th>\n",
       "      <td>105.0</td>\n",
       "      <td>4</td>\n",
       "      <td>3.0</td>\n",
       "      <td>325000</td>\n",
       "      <td>1953</td>\n",
       "      <td>936.000</td>\n",
       "      <td>936.000</td>\n",
       "      <td>0.21</td>\n",
       "    </tr>\n",
       "    <tr>\n",
       "      <th>4</th>\n",
       "      <td>105.0</td>\n",
       "      <td>3</td>\n",
       "      <td>1.0</td>\n",
       "      <td>174999</td>\n",
       "      <td>1949</td>\n",
       "      <td>1.792</td>\n",
       "      <td>1.064</td>\n",
       "      <td>0.13</td>\n",
       "    </tr>\n",
       "  </tbody>\n",
       "</table>\n",
       "</div>"
      ],
      "text/plain": [
       "   price_per_sq_ft  beds_total  baths.lavs  original_list_price  year_built  \\\n",
       "0             98.0           3         2.0               199900        1952   \n",
       "1             99.0           3         1.1               199900        1949   \n",
       "2            103.0           4         1.0               199900        1923   \n",
       "3            105.0           4         3.0               325000        1953   \n",
       "4            105.0           3         1.0               174999        1949   \n",
       "\n",
       "   sqft-est_tot_fin  sqft-est_fin_abv_grd  acreage  \n",
       "0             1.726                 1.026     0.50  \n",
       "1             1.910                 1.210     0.25  \n",
       "2             1.764                 1.764     0.25  \n",
       "3           936.000               936.000     0.21  \n",
       "4             1.792                 1.064     0.13  "
      ]
     },
     "execution_count": 1,
     "metadata": {},
     "output_type": "execute_result"
    }
   ],
   "source": [
    "import pandas as pd\n",
    "import numpy as np\n",
    "from sklearn.model_selection import train_test_split\n",
    "\n",
    "from clean import Data, PTHURL\n",
    "from metric_report import MetricReport\n",
    "\n",
    "dat = Data(PTHURL)\n",
    "X = dat.X\n",
    "y = dat.y\n",
    "X.head()"
   ]
  },
  {
   "cell_type": "code",
   "execution_count": 5,
   "metadata": {},
   "outputs": [
    {
     "name": "stdout",
     "output_type": "stream",
     "text": [
      "The error explained_variance_score scored at -42.65\n",
      "The error mean_absolute_error scored at 2.248e+05\n",
      "The error mean_squared_error scored at 6.071e+10\n",
      "The error mean_squared_log_error scored at 2.779\n",
      "The error median_absolute_error scored at 2.07e+05\n",
      "The error r2_score scored at -259.8\n"
     ]
    }
   ],
   "source": [
    "class GBR: \n",
    "    \n",
    "    def __init__(self, X: pd.DataFrame = X, y: pd.DataFrame = y):\n",
    "        from xgboost import train as Train, DMatrix\n",
    "        self.X_train, self.X_test, self.y_train, self.y_test = train_test_split(X, y)\n",
    "        self.dtrain = DMatrix(self.X_train.values, self.y_train.values)\n",
    "        self.dtest = DMatrix(self.X_test.values)\n",
    "\n",
    "        self.feat_names_mapper = {ident: name for ident,name in zip(self.dtrain.feature_names,X.columns)}\n",
    "        \n",
    "        self.params={'objective': 'reg:linear', 'max_depth':3, 'learning_rate':0.1, 'n_estimators':100, 'silent':1}\n",
    "        self.num_round=2\n",
    "        self.model = Train(self.params, self.dtrain, self.num_round)\n",
    "        self.prediction = self.model.predict(self.dtest)\n",
    "\n",
    "gbr = GBR(X, y)\n",
    "\n",
    "print(MetricReport(gbr.prediction, gbr.y_test.values).show)"
   ]
  },
  {
   "cell_type": "code",
   "execution_count": 6,
   "metadata": {},
   "outputs": [
    {
     "name": "stdout",
     "output_type": "stream",
     "text": [
      "The error explained_variance_score scored at 0.7942\n",
      "The error mean_absolute_error scored at 1.701e+04\n",
      "The error mean_squared_error scored at 1.88e+09\n",
      "The error mean_squared_log_error scored at 0.006886\n",
      "The error median_absolute_error scored at 8.462e+03\n",
      "The error r2_score scored at 0.7934\n"
     ]
    }
   ],
   "source": [
    "class RFR:\n",
    "    def __init__(self, X: pd.DataFrame = X, y: pd.DataFrame = y):\n",
    "        from sklearn.ensemble import RandomForestRegressor\n",
    "        self.X_train, self.X_test, self.y_train, self.y_test = train_test_split(X, y)\n",
    "        self.model = RandomForestRegressor(n_estimators=100)\n",
    "        self.model.fit(self.X_train, self.y_train)\n",
    "        self.prediction = self.model.predict(self.X_test)\n",
    "\n",
    "rfr = RFR(X, y)\n",
    "\n",
    "print(MetricReport(rfr.prediction, rfr.y_test).show)"
   ]
  },
  {
   "cell_type": "code",
   "execution_count": null,
   "metadata": {},
   "outputs": [],
   "source": []
  },
  {
   "cell_type": "code",
   "execution_count": 7,
   "metadata": {},
   "outputs": [
    {
     "name": "stdout",
     "output_type": "stream",
     "text": [
      "..."
     ]
    },
    {
     "data": {
      "text/plain": [
       "{'gradient boost performance': 'The error explained_variance_score scored at 0.3099\\nThe error mean_absolute_error scored at 2.185e+05\\nThe error mean_squared_error scored at 5.284e+10\\nThe error mean_squared_log_error scored at 2.776\\nThe error median_absolute_error scored at 2.044e+05\\nThe error r2_score scored at -6.158',\n",
       " 'random forest performance': 'The error explained_variance_score scored at 0.966\\nThe error mean_absolute_error scored at 1.279e+04\\nThe error mean_squared_error scored at 3.325e+08\\nThe error mean_squared_log_error scored at 0.004213\\nThe error median_absolute_error scored at 9.832e+03\\nThe error r2_score scored at 0.966'}"
      ]
     },
     "execution_count": 7,
     "metadata": {},
     "output_type": "execute_result"
    }
   ],
   "source": [
    "from training import gbr as g, rfr as r, REPORTS\n",
    "\n",
    "REPORTS"
   ]
  },
  {
   "cell_type": "code",
   "execution_count": 15,
   "metadata": {},
   "outputs": [
    {
     "data": {
      "text/plain": [
       "array([151084.])"
      ]
     },
     "execution_count": 15,
     "metadata": {},
     "output_type": "execute_result"
    }
   ],
   "source": [
    "r.model.predict(np.array([[1,2,3,4,5,6,7,8]]))"
   ]
  },
  {
   "cell_type": "code",
   "execution_count": null,
   "metadata": {},
   "outputs": [],
   "source": []
  },
  {
   "cell_type": "code",
   "execution_count": null,
   "metadata": {},
   "outputs": [],
   "source": []
  }
 ],
 "metadata": {
  "kernelspec": {
   "display_name": "Python 3",
   "language": "python",
   "name": "python3"
  },
  "language_info": {
   "codemirror_mode": {
    "name": "ipython",
    "version": 3
   },
   "file_extension": ".py",
   "mimetype": "text/x-python",
   "name": "python",
   "nbconvert_exporter": "python",
   "pygments_lexer": "ipython3",
   "version": "3.6.6"
  }
 },
 "nbformat": 4,
 "nbformat_minor": 2
}
