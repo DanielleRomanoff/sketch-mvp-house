{
 "cells": [
  {
   "cell_type": "code",
   "execution_count": 54,
   "metadata": {},
   "outputs": [
    {
     "data": {
      "text/plain": [
       "{'data': <Element 'results' at 0x7f7d816e58b8>,\n",
       " 'zillow_id': '2086005809',\n",
       " 'home_type': 'MultiFamily5Plus',\n",
       " 'home_detail_link': 'https://www.zillow.com/homedetails/3400-Pacific-Ave-APT-108-Marina-Del-Rey-CA-90292/2086005809_zpid/',\n",
       " 'graph_data_link': None,\n",
       " 'map_this_home_link': 'http://www.zillow.com/homes/2086005809_zpid/',\n",
       " 'latitude': '33.978073',\n",
       " 'longitude': '-118.464146',\n",
       " 'tax_year': None,\n",
       " 'tax_value': None,\n",
       " 'year_built': None,\n",
       " 'property_size': None,\n",
       " 'home_size': '1700',\n",
       " 'bathrooms': '2.5',\n",
       " 'bedrooms': '2',\n",
       " 'last_sold_date': None,\n",
       " 'last_sold_price': None,\n",
       " 'zestimate_amount': None,\n",
       " 'zestimate_last_updated': '01/01/1970',\n",
       " 'zestimate_value_change': None,\n",
       " 'zestimate_valuation_range_high': None,\n",
       " 'zestimate_valuationRange_low': None,\n",
       " 'zestimate_percentile': '0'}"
      ]
     },
     "execution_count": 54,
     "metadata": {},
     "output_type": "execute_result"
    }
   ],
   "source": [
    "# https://pypi.org/project/pyzillow/\n",
    "\n",
    "from pyzillow.pyzillow import ZillowWrapper, GetDeepSearchResults\n",
    "\n",
    "zillow_key = 'X1-ZWz1827x6v9n9n_77v70'\n",
    "\n",
    "address = \"3400 Pacific Ave., Marina Del Rey, CA, \"\n",
    "zipcode = \"90292\"\n",
    "\n",
    "zillow_data = ZillowWrapper(zillow_key)\n",
    "deep_search_response = zillow_data.get_deep_search_results(address, zipcode)\n",
    "result = GetDeepSearchResults(deep_search_response)\n",
    "\n",
    "vars(result)\n",
    "\n",
    "# [result.attr for attr in ['home_size', 'home_size', 'last_sold_price']]\n",
    "\n",
    "#['home_size', 'home_size', 'last_sold_price]"
   ]
  },
  {
   "cell_type": "code",
   "execution_count": 36,
   "metadata": {},
   "outputs": [
    {
     "data": {
      "text/plain": [
       "('3400 Pacific Ave., Marina Del Rey, CA, ', '90292')"
      ]
     },
     "execution_count": 36,
     "metadata": {},
     "output_type": "execute_result"
    }
   ],
   "source": [
    "raw = address + ' ' + zipcode\n",
    "\n",
    "pat = r'[0-9]{5}$'\n",
    "import re \n",
    "from typing import Tuple\n",
    "x = re.search(pat, raw).group()\n",
    "\n",
    "assert zipcode == x\n",
    "\n",
    "assert address == raw[:(len(raw)-len(x)-1)]\n",
    "\n",
    "def add_zip(raw_add: str) -> Tuple[str, str]: \n",
    "    zippat = r'[0-9]{5}$'\n",
    "    zipcode = re.search(pat, raw_add).group()\n",
    "    address = raw_add[:(len(raw)-len(x)-1)]\n",
    "    return address, zipcode\n",
    "\n",
    "add_zip(raw)"
   ]
  },
  {
   "cell_type": "code",
   "execution_count": 6,
   "metadata": {},
   "outputs": [
    {
     "data": {
      "text/plain": [
       "'MultiFamily5Plus'"
      ]
     },
     "execution_count": 6,
     "metadata": {},
     "output_type": "execute_result"
    }
   ],
   "source": [
    "result.home_type"
   ]
  }
 ],
 "metadata": {
  "kernelspec": {
   "display_name": "Python 3",
   "language": "python",
   "name": "python3"
  },
  "language_info": {
   "codemirror_mode": {
    "name": "ipython",
    "version": 3
   },
   "file_extension": ".py",
   "mimetype": "text/x-python",
   "name": "python",
   "nbconvert_exporter": "python",
   "pygments_lexer": "ipython3",
   "version": "3.6.6"
  }
 },
 "nbformat": 4,
 "nbformat_minor": 2
}
