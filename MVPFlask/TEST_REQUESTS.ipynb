{
 "cells": [
  {
   "cell_type": "code",
   "execution_count": 1,
   "metadata": {},
   "outputs": [],
   "source": [
    "import requests, json\n",
    "from utils import Spinner\n",
    "spinner=Spinner()"
   ]
  },
  {
   "cell_type": "code",
   "execution_count": 7,
   "metadata": {},
   "outputs": [
    {
     "name": "stdout",
     "output_type": "stream",
     "text": [
      "...good address responded: <Response [200]>.\n",
      "the content of the resonse was {'upper_lower_bound_by_city': [0, 100000], 'valuation': 359941.8}\n",
      "...the bad address responded: <Response [200]>.\n",
      "the content of the resonse was {'FAIL': 'address given not available in zillow api. Please try another address'}\n"
     ]
    }
   ],
   "source": [
    "url_loc = \"http://127.0.0.1:5000/\"\n",
    "\n",
    "good_address = \"3400 Pacific Ave., Marina Del Rey, CA, 90292\"\n",
    "bad_address = \"7543 Heron Hill Dr. Downingtown Michigan 19335\"\n",
    "\n",
    "\n",
    "spinner.start()\n",
    "data = {'address': good_address, 'predictands': [1,2,38]}\n",
    "r = requests.post(url_loc, data=json.dumps(data))\n",
    "spinner.stop()\n",
    "\n",
    "print(f\"good address responded: {r}.\\nthe content of the resonse was {r.json()}\")\n",
    "\n",
    "spinner.start()\n",
    "data = {'address': bad_address, 'predictands': [1,2,38]}\n",
    "r = requests.post(url_loc, data=json.dumps(data))\n",
    "spinner.stop()\n",
    "\n",
    "print(f\"the bad address responded: {r}.\\nthe content of the resonse was {r.json()}\")\n"
   ]
  },
  {
   "cell_type": "code",
   "execution_count": null,
   "metadata": {},
   "outputs": [],
   "source": []
  },
  {
   "cell_type": "code",
   "execution_count": null,
   "metadata": {},
   "outputs": [],
   "source": []
  },
  {
   "cell_type": "code",
   "execution_count": null,
   "metadata": {},
   "outputs": [],
   "source": []
  },
  {
   "cell_type": "code",
   "execution_count": null,
   "metadata": {},
   "outputs": [],
   "source": []
  },
  {
   "cell_type": "code",
   "execution_count": null,
   "metadata": {},
   "outputs": [],
   "source": []
  },
  {
   "cell_type": "code",
   "execution_count": null,
   "metadata": {},
   "outputs": [],
   "source": []
  },
  {
   "cell_type": "code",
   "execution_count": null,
   "metadata": {},
   "outputs": [],
   "source": []
  },
  {
   "cell_type": "code",
   "execution_count": null,
   "metadata": {},
   "outputs": [],
   "source": []
  },
  {
   "cell_type": "code",
   "execution_count": null,
   "metadata": {},
   "outputs": [],
   "source": []
  }
 ],
 "metadata": {
  "kernelspec": {
   "display_name": "Python 3",
   "language": "python",
   "name": "python3"
  },
  "language_info": {
   "codemirror_mode": {
    "name": "ipython",
    "version": 3
   },
   "file_extension": ".py",
   "mimetype": "text/x-python",
   "name": "python",
   "nbconvert_exporter": "python",
   "pygments_lexer": "ipython3",
   "version": "3.6.6"
  }
 },
 "nbformat": 4,
 "nbformat_minor": 2
}
