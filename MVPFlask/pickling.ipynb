{
 "cells": [
  {
   "cell_type": "code",
   "execution_count": 7,
   "metadata": {},
   "outputs": [
    {
     "name": "stdout",
     "output_type": "stream",
     "text": [
      "5663941 src/RFR_mvp1.pkl\n"
     ]
    }
   ],
   "source": [
    "#from _pickle import pickle as pkl\n",
    "import pickle\n",
    "from src.training import rfr as r, REPORTS\n",
    "\n",
    "# with open('src/RFR_mvp_pick.pickle', 'wb') as rp: \n",
    "#     pickle.dump((r, REPORTS['random forest performance']), rp)\n",
    "\n",
    "pickle.dump((r, REPORTS['random forest performance']), open('src/RFR_mvp1.pkl', 'wb'))\n",
    "\n",
    "!wc -c src/RFR_mvp1.pkl\n",
    "# this looks small enough for github"
   ]
  },
  {
   "cell_type": "code",
   "execution_count": 2,
   "metadata": {},
   "outputs": [
    {
     "data": {
      "text/plain": [
       "{'gradient boost performance': 'The error explained_variance_score scored at 0.1511\\nThe error mean_absolute_error scored at 2.304e+05\\nThe error mean_squared_error scored at 6.095e+10\\nThe error mean_squared_log_error scored at 2.78\\nThe error median_absolute_error scored at 2.094e+05\\nThe error r2_score scored at -5.573',\n",
       " 'random forest performance': 'The error explained_variance_score scored at 0.3328\\nThe error mean_absolute_error scored at 5.819e+04\\nThe error mean_squared_error scored at 7.337e+09\\nThe error mean_squared_log_error scored at 0.06988\\nThe error median_absolute_error scored at 3.79e+04\\nThe error r2_score scored at 0.3314'}"
      ]
     },
     "execution_count": 2,
     "metadata": {},
     "output_type": "execute_result"
    }
   ],
   "source": [
    "#REPORTS"
   ]
  },
  {
   "cell_type": "code",
   "execution_count": 4,
   "metadata": {},
   "outputs": [
    {
     "name": "stdout",
     "output_type": "stream",
     "text": [
      "ctypes objects containing pointers cannot be pickled\n"
     ]
    }
   ],
   "source": [
    "# note-- xgboost objects can't be pickled!\n",
    "try: \n",
    "    pickle.dump(g, open('scratch.pickle', 'wb'))\n",
    "except ValueError as e: \n",
    "    cant_pickle_xgb_exception = e\n",
    "    print(cant_pickle_xgb_exception)\n"
   ]
  },
  {
   "cell_type": "code",
   "execution_count": 3,
   "metadata": {},
   "outputs": [
    {
     "ename": "FileNotFoundError",
     "evalue": "[Errno 2] No such file or directory: 'src/RFR_mvp_pick.pickle'",
     "output_type": "error",
     "traceback": [
      "\u001b[0;31m---------------------------------------------------------------------------\u001b[0m",
      "\u001b[0;31mFileNotFoundError\u001b[0m                         Traceback (most recent call last)",
      "\u001b[0;32m<ipython-input-3-f680edd4b053>\u001b[0m in \u001b[0;36m<module>\u001b[0;34m\u001b[0m\n\u001b[1;32m      1\u001b[0m \u001b[0;31m# test unpickling\u001b[0m\u001b[0;34m\u001b[0m\u001b[0;34m\u001b[0m\u001b[0m\n\u001b[0;32m----> 2\u001b[0;31m \u001b[0;32mwith\u001b[0m \u001b[0mopen\u001b[0m\u001b[0;34m(\u001b[0m\u001b[0;34m'src/RFR_mvp_pick.pickle'\u001b[0m\u001b[0;34m,\u001b[0m \u001b[0;34m'rb'\u001b[0m\u001b[0;34m)\u001b[0m \u001b[0;32mas\u001b[0m \u001b[0mrp\u001b[0m\u001b[0;34m:\u001b[0m\u001b[0;34m\u001b[0m\u001b[0m\n\u001b[0m\u001b[1;32m      3\u001b[0m     \u001b[0mrfr\u001b[0m\u001b[0;34m,\u001b[0m \u001b[0mreport\u001b[0m \u001b[0;34m=\u001b[0m \u001b[0mpickle\u001b[0m\u001b[0;34m.\u001b[0m\u001b[0mload\u001b[0m\u001b[0;34m(\u001b[0m\u001b[0mrp\u001b[0m\u001b[0;34m)\u001b[0m\u001b[0;34m\u001b[0m\u001b[0m\n\u001b[1;32m      4\u001b[0m \u001b[0;34m\u001b[0m\u001b[0m\n\u001b[1;32m      5\u001b[0m \u001b[0;31m# example usage\u001b[0m\u001b[0;34m\u001b[0m\u001b[0;34m\u001b[0m\u001b[0m\n",
      "\u001b[0;31mFileNotFoundError\u001b[0m: [Errno 2] No such file or directory: 'src/RFR_mvp_pick.pickle'"
     ]
    }
   ],
   "source": [
    "# test unpickling\n",
    "with open('src/RFR_mvp_pick.pickle', 'rb') as rp: \n",
    "    rfr, report = pickle.load(rp)\n",
    "\n",
    "# example usage\n",
    "print(report)\n",
    "example_inp = [[1,2,3]]\n",
    "print(f\"\\n\\n EXAMPLE INPUT features {example_inp[0]} valued at \\tprice: {rfr.model.predict(example_inp)[0]}\")\n"
   ]
  },
  {
   "cell_type": "code",
   "execution_count": null,
   "metadata": {},
   "outputs": [],
   "source": []
  },
  {
   "cell_type": "code",
   "execution_count": null,
   "metadata": {},
   "outputs": [],
   "source": []
  },
  {
   "cell_type": "code",
   "execution_count": null,
   "metadata": {},
   "outputs": [],
   "source": []
  }
 ],
 "metadata": {
  "kernelspec": {
   "display_name": "Python 3",
   "language": "python",
   "name": "python3"
  },
  "language_info": {
   "codemirror_mode": {
    "name": "ipython",
    "version": 3
   },
   "file_extension": ".py",
   "mimetype": "text/x-python",
   "name": "python",
   "nbconvert_exporter": "python",
   "pygments_lexer": "ipython3",
   "version": "3.6.6"
  }
 },
 "nbformat": 4,
 "nbformat_minor": 2
}
