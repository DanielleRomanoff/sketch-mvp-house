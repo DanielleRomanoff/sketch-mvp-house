{
 "cells": [
  {
   "cell_type": "code",
   "execution_count": 1,
   "metadata": {},
   "outputs": [
    {
     "name": "stdout",
     "output_type": "stream",
     "text": [
      ".........5722561 RFR_mvp_pick1.pickle\n"
     ]
    }
   ],
   "source": [
    "import pickle\n",
    "\n",
    "from training import gbr as g, rfr as r, REPORTS\n",
    "\n",
    "with open('RFR_mvp_pick1.pickle', 'wb') as rp: \n",
    "    pickle.dump((r, REPORTS['random forest performance']), rp)\n",
    "\n",
    "!wc -c RFR_mvp_pick1.pickle\n",
    "# this looks small enough for github"
   ]
  },
  {
   "cell_type": "code",
   "execution_count": null,
   "metadata": {},
   "outputs": [],
   "source": []
  },
  {
   "cell_type": "code",
   "execution_count": 4,
   "metadata": {},
   "outputs": [
    {
     "name": "stdout",
     "output_type": "stream",
     "text": [
      "ctypes objects containing pointers cannot be pickled\n"
     ]
    }
   ],
   "source": [
    "# note-- xgboost objects can't be pickled!\n",
    "try: \n",
    "    pickle.dump(g, open('scratch.pickle', 'wb'))\n",
    "except ValueError as e: \n",
    "    cant_pickle_xgb_exception = e\n",
    "    print(cant_pickle_xgb_exception)\n"
   ]
  },
  {
   "cell_type": "code",
   "execution_count": 3,
   "metadata": {},
   "outputs": [
    {
     "name": "stdout",
     "output_type": "stream",
     "text": [
      "The error explained_variance_score scored at 0.3664\n",
      "The error mean_absolute_error scored at 5.759e+04\n",
      "The error mean_squared_error scored at 7.364e+09\n",
      "The error mean_squared_log_error scored at 0.06391\n",
      "The error median_absolute_error scored at 3.98e+04\n",
      "The error r2_score scored at 0.3648\n",
      "\n",
      "\n",
      " EXAMPLE INPUT features [1, 2, 3] valued at \tprice: 278019.28\n"
     ]
    }
   ],
   "source": [
    "# test unpickling\n",
    "with open('RFR_mvp_pick1.pickle', 'rb') as rp: \n",
    "    rfr, report = pickle.load(rp)\n",
    "\n",
    "# example usage\n",
    "print(report)\n",
    "example_inp = [[1,2,3]]\n",
    "print(f\"\\n\\n EXAMPLE INPUT features {example_inp[0]} valued at \\tprice: {rfr.model.predict(example_inp)[0]}\")\n"
   ]
  },
  {
   "cell_type": "code",
   "execution_count": null,
   "metadata": {},
   "outputs": [],
   "source": []
  }
 ],
 "metadata": {
  "kernelspec": {
   "display_name": "Python 3",
   "language": "python",
   "name": "python3"
  },
  "language_info": {
   "codemirror_mode": {
    "name": "ipython",
    "version": 3
   },
   "file_extension": ".py",
   "mimetype": "text/x-python",
   "name": "python",
   "nbconvert_exporter": "python",
   "pygments_lexer": "ipython3",
   "version": "3.6.6"
  }
 },
 "nbformat": 4,
 "nbformat_minor": 2
}
